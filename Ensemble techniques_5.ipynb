{
 "cells": [
  {
   "cell_type": "markdown",
   "id": "2ceabb64",
   "metadata": {},
   "source": [
    "#### You are working on a machine learning project where you have a dataset containing numerical and categorical features. You have identified that some of the features are highly correlated and there are missing values in some of the columns. You want to build a pipeline that automates the feature engineering process and handles the missing values. Design a pipeline that includes the following steps:\n",
    "\n",
    "##### Use an automated feature selection method to identify the important features in the dataset.\n",
    "##### Create a numerical pipeline that includes the following steps:\n",
    "##### Impute the missing values in the numerical columns using the mean of the column values.\n",
    "##### Scale the numerical columns using standardization.\n",
    "#### Create a categorical pipeline that includes the following steps:\n",
    "#### Impute the missing values in the categorical columns using the most frequent value of the column.\n",
    "#### One-hot encode the categorical columns.\n",
    "#### Combine the numerical and categorical pipelines using a ColumnTransformer.\n",
    "#### Use a Random Forest Classifier to build the final model.\n",
    "#### Evaluate the accuracy of the model on the test dataset."
   ]
  },
  {
   "cell_type": "code",
   "execution_count": 2,
   "id": "dff99304",
   "metadata": {},
   "outputs": [],
   "source": [
    "# Step 1: Import necessary libraries\n",
    "# import numpy as np\n",
    "# import pandas as pd\n",
    "# from sklearn.model_selection import train_test_split\n",
    "# from sklearn.impute import SimpleImputer\n",
    "# from sklearn.preprocessing import StandardScaler, OneHotEncoder\n",
    "# from sklearn.compose import ColumnTransformer\n",
    "# from sklearn.pipeline import Pipeline\n",
    "# from sklearn.ensemble import RandomForestClassifier\n",
    "# from sklearn.feature_selection import SelectFromModel\n",
    "# from sklearn.metrics import accuracy_score\n",
    "\n",
    "# Step 2: Load your dataset\n",
    "# Assume `data.csv` is your datas\n",
    "#data = pd.read_csv('data.csv')\n",
    "#X = data.drop('target', axis=1)\n",
    "#y = data['target']\n",
    "#\n",
    "## Step 3: Splitting the dataset\n",
    "#X_train, X_test, y_train, y_test = train_test_split(X, y, test_size=0.2, random_state=42)\n",
    "#\n",
    "## Step 4: Define Pipelines for Numerical and Categorical Data\n",
    "#numeric_transformer = Pipeline(steps=[\n",
    "#    ('imputer', SimpleImputer(strategy='mean')),\n",
    "#    ('scaler', StandardScaler())\n",
    "#])\n",
    "#\n",
    "#categorical_transformer = Pipeline(steps=[\n",
    "#    ('imputer', SimpleImputer(strategy='most_frequent')),\n",
    "#    ('onehot', OneHotEncoder(handle_unknown='ignore'))\n",
    "#])\n",
    "#\n",
    "## Step 5: Combine Pipelines Using ColumnTransformer\n",
    "#numerical_cols = X_train.select_dtypes(include=['int64', 'float64']).columns\n",
    "#categorical_cols = X_train.select_dtypes(include=['object', 'category']).columns\n",
    "#\n",
    "#preprocessor = ColumnTransformer(\n",
    "#    transformers=[\n",
    "#        ('num', numeric_transformer, numerical_cols),\n",
    "#        ('cat', categorical_transformer, categorical_cols)\n",
    "#    ])\n",
    "#\n",
    "## Step 6: Create the complete pipeline\n",
    "#pipeline = Pipeline(steps=[\n",
    "#    ('preprocessor', preprocessor),\n",
    "#    ('feature_selection', SelectFromModel(RandomForestClassifier(n_estimators=100))),\n",
    "#    ('classifier', RandomForestClassifier())\n",
    "#])\n",
    "#\n",
    "## Step 7: Train the pipeline\n",
    "#pipeline.fit(X_train, y_train)\n",
    "#\n",
    "## Step 8: Evaluate the model\n",
    "#y_pred = pipeline.predict(X_test)\n",
    "#accuracy = accuracy_score(y_test, y_pred)\n",
    "#print(f\"Model accuracy: {accuracy:.2f}\")\n"
   ]
  },
  {
   "cell_type": "markdown",
   "id": "6d2ccc71",
   "metadata": {},
   "source": [
    "#### Q2: Build a pipeline that includes a random forest classifier and a logistic regression classifier, and then use a voting classifier to combine their predictions. Train the pipeline on the iris dataset and evaluate its accuracy."
   ]
  },
  {
   "cell_type": "code",
   "execution_count": 3,
   "id": "e5ca4c37",
   "metadata": {},
   "outputs": [
    {
     "name": "stdout",
     "output_type": "stream",
     "text": [
      "Accuracy of the voting classifier: 1.00\n"
     ]
    }
   ],
   "source": [
    "from sklearn.datasets import load_iris\n",
    "from sklearn.linear_model import LogisticRegression\n",
    "from sklearn.ensemble import RandomForestClassifier, VotingClassifier\n",
    "from sklearn.pipeline import Pipeline\n",
    "from sklearn.preprocessing import StandardScaler\n",
    "from sklearn.model_selection import train_test_split\n",
    "from sklearn.metrics import accuracy_score\n",
    "\n",
    "#### Load data\n",
    "iris = load_iris()\n",
    "X, y = iris.data, iris.target\n",
    "\n",
    "#### Create individual pipelines\n",
    "rf_pipeline = Pipeline([\n",
    "    ('scaler', StandardScaler()),\n",
    "    ('clf', RandomForestClassifier(n_estimators=100))\n",
    "])\n",
    "\n",
    "lr_pipeline = Pipeline([\n",
    "    ('scaler', StandardScaler()),\n",
    "    ('clf', LogisticRegression())\n",
    "])\n",
    "\n",
    "#### Create voting classifier\n",
    "voting_classifier = VotingClassifier(\n",
    "    estimators=[('rf', rf_pipeline), ('lr', lr_pipeline)],\n",
    "    voting='soft'\n",
    ")\n",
    "\n",
    "#### Train and evaluate the classifier\n",
    "X_train, X_test, y_train, y_test = train_test_split(X, y, test_size=0.2, random_state=42)\n",
    "voting_classifier.fit(X_train, y_train)\n",
    "y_pred = voting_classifier.predict(X_test)\n",
    "accuracy = accuracy_score(y_test, y_pred)\n",
    "print(f\"Accuracy of the voting classifier: {accuracy:.2f}\")\n"
   ]
  },
  {
   "cell_type": "code",
   "execution_count": null,
   "id": "f197a948",
   "metadata": {},
   "outputs": [],
   "source": []
  }
 ],
 "metadata": {
  "kernelspec": {
   "display_name": "Python 3 (ipykernel)",
   "language": "python",
   "name": "python3"
  },
  "language_info": {
   "codemirror_mode": {
    "name": "ipython",
    "version": 3
   },
   "file_extension": ".py",
   "mimetype": "text/x-python",
   "name": "python",
   "nbconvert_exporter": "python",
   "pygments_lexer": "ipython3",
   "version": "3.11.2"
  }
 },
 "nbformat": 4,
 "nbformat_minor": 5
}
