{
 "cells": [
  {
   "cell_type": "markdown",
   "id": "c9703415",
   "metadata": {},
   "source": [
    "#### Q1. What is an ensemble technique in machine learning?"
   ]
  },
  {
   "cell_type": "markdown",
   "id": "aa11a316",
   "metadata": {},
   "source": [
    "An ensemble technique in machine learning involves combining multiple models to improve predictive performance. It can be achieved by averaging predictions for Regression Problem and Max voting Classifier for Classification problem(such as in bagging), combining predictions by a weighted average (as in boosting), or using more complex methods like stacking."
   ]
  },
  {
   "cell_type": "markdown",
   "id": "051dc20e",
   "metadata": {},
   "source": [
    "#### Q2. Why are ensemble techniques used in machine learnng?"
   ]
  },
  {
   "cell_type": "markdown",
   "id": "e39703b1",
   "metadata": {},
   "source": [
    "Ensemble techniques are used in machine learning to enhance predictive accuracy, reduce overfitting, and increase robustness of models. By combining multiple models, ensemble techniques can often achieve better performance than any individual model."
   ]
  },
  {
   "cell_type": "markdown",
   "id": "424607a1",
   "metadata": {},
   "source": [
    "#### Q3. What is bagging?"
   ]
  },
  {
   "cell_type": "markdown",
   "id": "d9cf1dae",
   "metadata": {},
   "source": [
    "Bagging, or Bootstrap Aggregating, is an ensemble technique in which multiple models are trained on different subsets of the training data, sampled with replacement. The final prediction is then made by averaging the predictions of all models (for regression) or by taking a vote (for classification).\n",
    "\n",
    "It is based on Base Learners"
   ]
  },
  {
   "cell_type": "markdown",
   "id": "0d0d7af7",
   "metadata": {},
   "source": [
    "#### Q4. What is boosting?"
   ]
  },
  {
   "cell_type": "markdown",
   "id": "54dbf08d",
   "metadata": {},
   "source": [
    "Boosting is an ensemble technique where models are trained sequentially, with each new model attempting to correct the errors made by the previous ones. Examples of boosting algorithms include AdaBoost, Gradient Boosting, and XGBoost.\n",
    "\n",
    "It is based on Weak Learners"
   ]
  },
  {
   "cell_type": "markdown",
   "id": "26430d92",
   "metadata": {},
   "source": [
    "#### Q5. What are the benefits of using ensemble techniques?"
   ]
  },
  {
   "cell_type": "markdown",
   "id": "631a1521",
   "metadata": {},
   "source": [
    "The benefits of using ensemble techniques include improved predictive performance, reduced overfitting, increased robustness to noise in the data, and the ability to capture complex relationships in the data."
   ]
  },
  {
   "cell_type": "markdown",
   "id": "d96c3f89",
   "metadata": {},
   "source": [
    "#### Q6. Are ensemble techniques always better than individual models?"
   ]
  },
  {
   "cell_type": "markdown",
   "id": "cf6b54d0",
   "metadata": {},
   "source": [
    "While ensemble techniques often outperform individual models, they are not always guaranteed to do so. The effectiveness of ensemble techniques depends on factors such as the quality of the base models, diversity among the models, and the nature of the dataset."
   ]
  },
  {
   "cell_type": "markdown",
   "id": "27de58bc",
   "metadata": {},
   "source": [
    "#### Q7. How is the confidence interval calculated using bootstrap?"
   ]
  },
  {
   "cell_type": "markdown",
   "id": "89ae1321",
   "metadata": {},
   "source": [
    "The confidence interval using bootstrap can be calculated by repeatedly resampling the dataset with replacement, computing the statistic of interest (e.g., mean) for each resampled dataset, and then calculating the desired quantiles of the distribution of these statistics."
   ]
  },
  {
   "cell_type": "markdown",
   "id": "30004c95",
   "metadata": {},
   "source": [
    "#### Q8. How does bootstrap work and What are the steps involved in bootstrap?"
   ]
  },
  {
   "cell_type": "markdown",
   "id": "034f19b9",
   "metadata": {},
   "source": [
    "Bootstrap is a resampling technique used to estimate the sampling distribution of a statistic by repeatedly sampling from the observed data with replacement. The steps involved in bootstrap are:\n",
    "\n",
    "Draw a random sample (with replacement) from the observed data.\n",
    "Calculate the statistic of interest (e.g., mean, standard deviation) for the resampled data.\n",
    "Repeat steps 1 and 2 a large number of times (typically thousands of times).\n",
    "Use the distribution of the calculated statistics to estimate parameters such as confidence intervals."
   ]
  },
  {
   "cell_type": "markdown",
   "id": "c93907ea",
   "metadata": {},
   "source": [
    "#### Q9. A researcher wants to estimate the mean height of a population of trees. They measure the height of a sample of 50 trees and obtain a mean height of 15 meters and a standard deviation of 2 meters. Use bootstrap to estimate the 95% confidence interval for the population mean height."
   ]
  },
  {
   "cell_type": "code",
   "execution_count": 1,
   "id": "21cba6a9",
   "metadata": {},
   "outputs": [
    {
     "name": "stdout",
     "output_type": "stream",
     "text": [
      "95% Confidence Interval for the Population Mean Height:\n",
      "Lower Bound: 14.454318362993174\n",
      "Upper Bound: 15.567678131485554\n"
     ]
    }
   ],
   "source": [
    "import numpy as np\n",
    "\n",
    "# Sample data\n",
    "sample_mean = 15  # Mean height of the sample\n",
    "sample_std = 2    # Standard deviation of the sample\n",
    "sample_size = 50  # Number of trees in the sample\n",
    "\n",
    "# Number of bootstrap samples\n",
    "num_bootstrap_samples = 10000\n",
    "\n",
    "# Generate bootstrap samples\n",
    "bootstrap_means = []\n",
    "for _ in range(num_bootstrap_samples):\n",
    "    # Resample with replacement\n",
    "    resampled_heights = np.random.normal(loc=sample_mean, scale=sample_std, size=sample_size)\n",
    "    # Calculate mean of resampled heights\n",
    "    resampled_mean = np.mean(resampled_heights)\n",
    "    bootstrap_means.append(resampled_mean)\n",
    "\n",
    "# Compute confidence interval\n",
    "confidence_interval = np.percentile(bootstrap_means, [2.5, 97.5])\n",
    "\n",
    "print(\"95% Confidence Interval for the Population Mean Height:\")\n",
    "print(\"Lower Bound:\", confidence_interval[0])\n",
    "print(\"Upper Bound:\", confidence_interval[1])\n"
   ]
  },
  {
   "cell_type": "code",
   "execution_count": null,
   "id": "15863c97",
   "metadata": {},
   "outputs": [],
   "source": []
  }
 ],
 "metadata": {
  "kernelspec": {
   "display_name": "Python 3 (ipykernel)",
   "language": "python",
   "name": "python3"
  },
  "language_info": {
   "codemirror_mode": {
    "name": "ipython",
    "version": 3
   },
   "file_extension": ".py",
   "mimetype": "text/x-python",
   "name": "python",
   "nbconvert_exporter": "python",
   "pygments_lexer": "ipython3",
   "version": "3.11.2"
  }
 },
 "nbformat": 4,
 "nbformat_minor": 5
}
