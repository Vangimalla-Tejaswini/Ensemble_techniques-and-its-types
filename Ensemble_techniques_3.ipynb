{
 "cells": [
  {
   "cell_type": "markdown",
   "id": "e8262939",
   "metadata": {},
   "source": [
    "#### Q1. What is Random Forest Regressor?"
   ]
  },
  {
   "cell_type": "markdown",
   "id": "16718c19",
   "metadata": {},
   "source": [
    "Random Forest Regressor is a type of ensemble learning method used for regression tasks. It's based on the Random Forest algorithm, which builds multiple decision trees during training and outputs the mean prediction of the individual trees for regression tasks."
   ]
  },
  {
   "cell_type": "markdown",
   "id": "d2e055e2",
   "metadata": {},
   "source": [
    "#### Q2. How does Random Forest Regressor reduce the risk of overfitting?\n"
   ]
  },
  {
   "cell_type": "markdown",
   "id": "ceeba263",
   "metadata": {},
   "source": [
    "#### Random Forest Regressor reduces overfitting through two main mechanisms:\n",
    "\n",
    "#### Bootstrapping: \n",
    "         Each tree in the forest is trained on a random subset of the training data (bootstrapping), reducing the chance of overfitting to the entire dataset.\n",
    "#### Feature Randomness: \n",
    "         At each node of the decision trees, a random subset of features is considered for splitting, which introduces further randomness and helps prevent overfitting."
   ]
  },
  {
   "cell_type": "markdown",
   "id": "770bb783",
   "metadata": {},
   "source": [
    "#### Q3. How does Random Forest Regressor aggregate the predictions of multiple decision trees?\n"
   ]
  },
  {
   "cell_type": "markdown",
   "id": "3b8b2f6f",
   "metadata": {},
   "source": [
    "Random Forest Regressor aggregates predictions by averaging the predictions of all individual trees. In the case of regression, the final output is typically the mean of all tree predictions."
   ]
  },
  {
   "cell_type": "markdown",
   "id": "35756f9a",
   "metadata": {},
   "source": [
    "#### Q4. What are the hyperparameters of Random Forest Regressor?\n"
   ]
  },
  {
   "cell_type": "markdown",
   "id": "59064c79",
   "metadata": {},
   "source": [
    "#### Some common hyperparameters of Random Forest Regressor include:\n",
    "\n",
    "Number of trees in the forest\n",
    "\n",
    "Maximum depth of each tree\n",
    "\n",
    "Minimum number of samples required to split a node\n",
    "\n",
    "Minimum number of samples required at each leaf node\n",
    "\n",
    "Maximum number of features to consider for splitting"
   ]
  },
  {
   "cell_type": "markdown",
   "id": "75288199",
   "metadata": {},
   "source": [
    "#### Q5. What is the difference between Random Forest Regressor and Decision Tree Regressor?\n"
   ]
  },
  {
   "cell_type": "markdown",
   "id": "efa458cd",
   "metadata": {},
   "source": [
    "In Random Forest Regressor we use multiple models(i.e; multiple decision trees) to reduce overfitting as we go to the depth of the tree.here we will combine the multiple model predictions as the mean which is taken as the output.\n",
    "\n",
    "In decision tree Regressor we will train the model using only one decision tree which may kead to overfitting.\n",
    "\n",
    "Random Forest Regressor is an ensemble method, whereas Decision Tree Regressor is a standalone algorithm"
   ]
  },
  {
   "cell_type": "markdown",
   "id": "8927cb63",
   "metadata": {},
   "source": [
    "#### Q6. What are the advantages and disadvantages of Random Forest Regressor?\n"
   ]
  },
  {
   "cell_type": "markdown",
   "id": "2d60e63a",
   "metadata": {},
   "source": [
    "#### Advantages:\n",
    "\n",
    "Generally provides high accuracy.\n",
    "\n",
    "Less prone to overfitting compared to individual decision trees.\n",
    "\n",
    "Can handle large datasets with high dimensionality.\n",
    "\n",
    "Able to handle missing values and maintain accuracy.\n",
    "#### Disadvantages:\n",
    "\n",
    "Can be computationally expensive, especially with a large number of trees and features.\n",
    "\n",
    "Lack of interpretability compared to individual decision trees.\n",
    "\n",
    "May not perform well on very small datasets."
   ]
  },
  {
   "cell_type": "markdown",
   "id": "58c7a092",
   "metadata": {},
   "source": [
    "#### Q7. What is the output of Random Forest Regressor?\n"
   ]
  },
  {
   "cell_type": "markdown",
   "id": "9f4d573e",
   "metadata": {},
   "source": [
    "The output of the Random Forest Regressor is the Mean of all the outputs of the individual Decision trees(i.e; Base Learners)"
   ]
  },
  {
   "cell_type": "markdown",
   "id": "fbc9587f",
   "metadata": {},
   "source": [
    "#### Q8. Can Random Forest Regressor be used for classification tasks?"
   ]
  },
  {
   "cell_type": "markdown",
   "id": "ab6dc9e1",
   "metadata": {},
   "source": [
    "Yes, Random Forest can also be used for classification tasks. It's called Random Forest Classifier in that context. It works similarly to Random Forest Regressor, but instead of predicting continuous values, it predicts class labels.\n",
    "\n",
    "Its output is Max vote classifier(takes the max repeated value as the final output)"
   ]
  }
 ],
 "metadata": {
  "kernelspec": {
   "display_name": "Python 3 (ipykernel)",
   "language": "python",
   "name": "python3"
  },
  "language_info": {
   "codemirror_mode": {
    "name": "ipython",
    "version": 3
   },
   "file_extension": ".py",
   "mimetype": "text/x-python",
   "name": "python",
   "nbconvert_exporter": "python",
   "pygments_lexer": "ipython3",
   "version": "3.11.2"
  }
 },
 "nbformat": 4,
 "nbformat_minor": 5
}
